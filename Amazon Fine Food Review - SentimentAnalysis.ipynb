{
 "cells": [
  {
   "cell_type": "markdown",
   "metadata": {},
   "source": [
    "# Sentiment Analysis of Amazon Fine Food Reviews"
   ]
  },
  {
   "attachments": {},
   "cell_type": "markdown",
   "metadata": {},
   "source": [
    "### Amazon fine food reviews data set was downloaded from Kaggle.\n",
    "\n",
    "The intention is to build a model which can perform sentiment analysis on the opinions expressed by the customers in a piece of text and based on this analysis determine whether the customer sentiment is positive or negative."
   ]
  },
  {
   "cell_type": "markdown",
   "metadata": {},
   "source": [
    "### Data import and exploration"
   ]
  },
  {
   "cell_type": "code",
   "execution_count": 1,
   "metadata": {},
   "outputs": [],
   "source": [
    "import pandas as pd\n",
    "import numpy as np"
   ]
  },
  {
   "cell_type": "code",
   "execution_count": 2,
   "metadata": {},
   "outputs": [
    {
     "data": {
      "text/html": [
       "<div>\n",
       "<style scoped>\n",
       "    .dataframe tbody tr th:only-of-type {\n",
       "        vertical-align: middle;\n",
       "    }\n",
       "\n",
       "    .dataframe tbody tr th {\n",
       "        vertical-align: top;\n",
       "    }\n",
       "\n",
       "    .dataframe thead th {\n",
       "        text-align: right;\n",
       "    }\n",
       "</style>\n",
       "<table border=\"1\" class=\"dataframe\">\n",
       "  <thead>\n",
       "    <tr style=\"text-align: right;\">\n",
       "      <th></th>\n",
       "      <th>Id</th>\n",
       "      <th>ProductId</th>\n",
       "      <th>UserId</th>\n",
       "      <th>ProfileName</th>\n",
       "      <th>HelpfulnessNumerator</th>\n",
       "      <th>HelpfulnessDenominator</th>\n",
       "      <th>Score</th>\n",
       "      <th>Time</th>\n",
       "      <th>Summary</th>\n",
       "      <th>Text</th>\n",
       "    </tr>\n",
       "  </thead>\n",
       "  <tbody>\n",
       "    <tr>\n",
       "      <th>0</th>\n",
       "      <td>1</td>\n",
       "      <td>B001E4KFG0</td>\n",
       "      <td>A3SGXH7AUHU8GW</td>\n",
       "      <td>delmartian</td>\n",
       "      <td>1</td>\n",
       "      <td>1</td>\n",
       "      <td>5</td>\n",
       "      <td>1303862400</td>\n",
       "      <td>Good Quality Dog Food</td>\n",
       "      <td>I have bought several of the Vitality canned d...</td>\n",
       "    </tr>\n",
       "    <tr>\n",
       "      <th>1</th>\n",
       "      <td>2</td>\n",
       "      <td>B00813GRG4</td>\n",
       "      <td>A1D87F6ZCVE5NK</td>\n",
       "      <td>dll pa</td>\n",
       "      <td>0</td>\n",
       "      <td>0</td>\n",
       "      <td>1</td>\n",
       "      <td>1346976000</td>\n",
       "      <td>Not as Advertised</td>\n",
       "      <td>#* ++--  #Product'' &gt;arri&gt;ved labeled as Jumbo...</td>\n",
       "    </tr>\n",
       "    <tr>\n",
       "      <th>2</th>\n",
       "      <td>3</td>\n",
       "      <td>B000LQOCH0</td>\n",
       "      <td>ABXLMWJIXXAIN</td>\n",
       "      <td>Natalia Corres \"Natalia Corres\"</td>\n",
       "      <td>1</td>\n",
       "      <td>1</td>\n",
       "      <td>4</td>\n",
       "      <td>1219017600</td>\n",
       "      <td>\"Delight\" says it all</td>\n",
       "      <td>This is a confection that has been around a fe...</td>\n",
       "    </tr>\n",
       "    <tr>\n",
       "      <th>3</th>\n",
       "      <td>4</td>\n",
       "      <td>B000UA0QIQ</td>\n",
       "      <td>A395BORC6FGVXV</td>\n",
       "      <td>Karl</td>\n",
       "      <td>3</td>\n",
       "      <td>3</td>\n",
       "      <td>2</td>\n",
       "      <td>1307923200</td>\n",
       "      <td>Cough Medicine</td>\n",
       "      <td>If you are looking for the secret ingredient i...</td>\n",
       "    </tr>\n",
       "    <tr>\n",
       "      <th>4</th>\n",
       "      <td>5</td>\n",
       "      <td>B006K2ZZ7K</td>\n",
       "      <td>A1UQRSCLF8GW1T</td>\n",
       "      <td>Michael D. Bigham \"M. Wassir\"</td>\n",
       "      <td>0</td>\n",
       "      <td>0</td>\n",
       "      <td>5</td>\n",
       "      <td>1350777600</td>\n",
       "      <td>Great taffy</td>\n",
       "      <td>Great taffy at a great price.  There was a wid...</td>\n",
       "    </tr>\n",
       "  </tbody>\n",
       "</table>\n",
       "</div>"
      ],
      "text/plain": [
       "   Id   ProductId          UserId                      ProfileName  \\\n",
       "0   1  B001E4KFG0  A3SGXH7AUHU8GW                       delmartian   \n",
       "1   2  B00813GRG4  A1D87F6ZCVE5NK                           dll pa   \n",
       "2   3  B000LQOCH0   ABXLMWJIXXAIN  Natalia Corres \"Natalia Corres\"   \n",
       "3   4  B000UA0QIQ  A395BORC6FGVXV                             Karl   \n",
       "4   5  B006K2ZZ7K  A1UQRSCLF8GW1T    Michael D. Bigham \"M. Wassir\"   \n",
       "\n",
       "   HelpfulnessNumerator  HelpfulnessDenominator  Score        Time  \\\n",
       "0                     1                       1      5  1303862400   \n",
       "1                     0                       0      1  1346976000   \n",
       "2                     1                       1      4  1219017600   \n",
       "3                     3                       3      2  1307923200   \n",
       "4                     0                       0      5  1350777600   \n",
       "\n",
       "                 Summary                                               Text  \n",
       "0  Good Quality Dog Food  I have bought several of the Vitality canned d...  \n",
       "1      Not as Advertised  #* ++--  #Product'' >arri>ved labeled as Jumbo...  \n",
       "2  \"Delight\" says it all  This is a confection that has been around a fe...  \n",
       "3         Cough Medicine  If you are looking for the secret ingredient i...  \n",
       "4            Great taffy  Great taffy at a great price.  There was a wid...  "
      ]
     },
     "execution_count": 2,
     "metadata": {},
     "output_type": "execute_result"
    }
   ],
   "source": [
    "ar = pd.read_csv('AMAZON-1L.csv')\n",
    "ar.head()"
   ]
  },
  {
   "cell_type": "code",
   "execution_count": 3,
   "metadata": {},
   "outputs": [
    {
     "data": {
      "text/plain": [
       "(106800, 10)"
      ]
     },
     "execution_count": 3,
     "metadata": {},
     "output_type": "execute_result"
    }
   ],
   "source": [
    "ar.shape"
   ]
  },
  {
   "cell_type": "code",
   "execution_count": 4,
   "metadata": {},
   "outputs": [
    {
     "name": "stdout",
     "output_type": "stream",
     "text": [
      "<class 'pandas.core.frame.DataFrame'>\n",
      "RangeIndex: 106800 entries, 0 to 106799\n",
      "Data columns (total 10 columns):\n",
      "Id                        106800 non-null int64\n",
      "ProductId                 106800 non-null object\n",
      "UserId                    106800 non-null object\n",
      "ProfileName               106795 non-null object\n",
      "HelpfulnessNumerator      106800 non-null int64\n",
      "HelpfulnessDenominator    106800 non-null int64\n",
      "Score                     106800 non-null int64\n",
      "Time                      106800 non-null int64\n",
      "Summary                   106796 non-null object\n",
      "Text                      106800 non-null object\n",
      "dtypes: int64(5), object(5)\n",
      "memory usage: 8.1+ MB\n"
     ]
    }
   ],
   "source": [
    "ar.info()"
   ]
  },
  {
   "cell_type": "code",
   "execution_count": 5,
   "metadata": {},
   "outputs": [
    {
     "data": {
      "text/plain": [
       "Id                        0\n",
       "ProductId                 0\n",
       "UserId                    0\n",
       "ProfileName               5\n",
       "HelpfulnessNumerator      0\n",
       "HelpfulnessDenominator    0\n",
       "Score                     0\n",
       "Time                      0\n",
       "Summary                   4\n",
       "Text                      0\n",
       "dtype: int64"
      ]
     },
     "execution_count": 5,
     "metadata": {},
     "output_type": "execute_result"
    }
   ],
   "source": [
    "ar.isnull().sum()"
   ]
  },
  {
   "cell_type": "markdown",
   "metadata": {},
   "source": [
    "### We would be using only the score and Text columns for our analysis and hence no missing value treatment is required as there are no missing values in these coloumns."
   ]
  },
  {
   "cell_type": "markdown",
   "metadata": {},
   "source": [
    "#### Checking the score wise no of observations"
   ]
  },
  {
   "cell_type": "code",
   "execution_count": 6,
   "metadata": {},
   "outputs": [
    {
     "data": {
      "text/plain": [
       "Score\n",
       "1    10001\n",
       "2     5867\n",
       "3     8488\n",
       "4    15578\n",
       "5    66866\n",
       "dtype: int64"
      ]
     },
     "execution_count": 6,
     "metadata": {},
     "output_type": "execute_result"
    }
   ],
   "source": [
    "ar.groupby(['Score']).size()"
   ]
  },
  {
   "cell_type": "code",
   "execution_count": 7,
   "metadata": {},
   "outputs": [
    {
     "data": {
      "text/plain": [
       "98312"
      ]
     },
     "execution_count": 7,
     "metadata": {},
     "output_type": "execute_result"
    }
   ],
   "source": [
    "ar[ar['Score'] != 3]['Id'].count()"
   ]
  },
  {
   "cell_type": "markdown",
   "metadata": {},
   "source": [
    "#### Selecting the required columns for our analysis"
   ]
  },
  {
   "cell_type": "code",
   "execution_count": 8,
   "metadata": {},
   "outputs": [],
   "source": [
    "ar=ar[['Score','Text']]"
   ]
  },
  {
   "cell_type": "markdown",
   "metadata": {},
   "source": [
    "### Data preparation"
   ]
  },
  {
   "cell_type": "markdown",
   "metadata": {},
   "source": [
    "#### Score variable has values from 1 to 5. We consider values 1,2 as negative sentiment, 3 as neutral and 4 and 5 as positive sentiment. Hence we will eliminate all observations with score 3."
   ]
  },
  {
   "cell_type": "code",
   "execution_count": 9,
   "metadata": {},
   "outputs": [],
   "source": [
    "ar = ar[ar['Score'] != 3]"
   ]
  },
  {
   "cell_type": "markdown",
   "metadata": {},
   "source": [
    "#### Creating a new coloumn Positivity where scores above 3 are encoded as 1 which is positive sentiment and scores below 3 are encoded as 0 which is negative sentiment."
   ]
  },
  {
   "cell_type": "code",
   "execution_count": 10,
   "metadata": {},
   "outputs": [
    {
     "data": {
      "text/html": [
       "<div>\n",
       "<style scoped>\n",
       "    .dataframe tbody tr th:only-of-type {\n",
       "        vertical-align: middle;\n",
       "    }\n",
       "\n",
       "    .dataframe tbody tr th {\n",
       "        vertical-align: top;\n",
       "    }\n",
       "\n",
       "    .dataframe thead th {\n",
       "        text-align: right;\n",
       "    }\n",
       "</style>\n",
       "<table border=\"1\" class=\"dataframe\">\n",
       "  <thead>\n",
       "    <tr style=\"text-align: right;\">\n",
       "      <th></th>\n",
       "      <th>Score</th>\n",
       "      <th>Text</th>\n",
       "      <th>Positivity</th>\n",
       "    </tr>\n",
       "  </thead>\n",
       "  <tbody>\n",
       "    <tr>\n",
       "      <th>0</th>\n",
       "      <td>5</td>\n",
       "      <td>I have bought several of the Vitality canned d...</td>\n",
       "      <td>1</td>\n",
       "    </tr>\n",
       "    <tr>\n",
       "      <th>1</th>\n",
       "      <td>1</td>\n",
       "      <td>#* ++--  #Product'' &gt;arri&gt;ved labeled as Jumbo...</td>\n",
       "      <td>0</td>\n",
       "    </tr>\n",
       "    <tr>\n",
       "      <th>2</th>\n",
       "      <td>4</td>\n",
       "      <td>This is a confection that has been around a fe...</td>\n",
       "      <td>1</td>\n",
       "    </tr>\n",
       "    <tr>\n",
       "      <th>3</th>\n",
       "      <td>2</td>\n",
       "      <td>If you are looking for the secret ingredient i...</td>\n",
       "      <td>0</td>\n",
       "    </tr>\n",
       "    <tr>\n",
       "      <th>4</th>\n",
       "      <td>5</td>\n",
       "      <td>Great taffy at a great price.  There was a wid...</td>\n",
       "      <td>1</td>\n",
       "    </tr>\n",
       "  </tbody>\n",
       "</table>\n",
       "</div>"
      ],
      "text/plain": [
       "   Score                                               Text  Positivity\n",
       "0      5  I have bought several of the Vitality canned d...           1\n",
       "1      1  #* ++--  #Product'' >arri>ved labeled as Jumbo...           0\n",
       "2      4  This is a confection that has been around a fe...           1\n",
       "3      2  If you are looking for the secret ingredient i...           0\n",
       "4      5  Great taffy at a great price.  There was a wid...           1"
      ]
     },
     "execution_count": 10,
     "metadata": {},
     "output_type": "execute_result"
    }
   ],
   "source": [
    "ar['Positivity'] = np.where(ar['Score'] > 3, 1, 0)\n",
    "ar.head()"
   ]
  },
  {
   "cell_type": "code",
   "execution_count": 11,
   "metadata": {},
   "outputs": [
    {
     "data": {
      "text/plain": [
       "array([1, 0], dtype=int64)"
      ]
     },
     "execution_count": 11,
     "metadata": {},
     "output_type": "execute_result"
    }
   ],
   "source": [
    "ar['Positivity'].unique()"
   ]
  },
  {
   "cell_type": "code",
   "execution_count": 12,
   "metadata": {},
   "outputs": [
    {
     "data": {
      "text/plain": [
       "Positivity\n",
       "0    15868\n",
       "1    82444\n",
       "dtype: int64"
      ]
     },
     "execution_count": 12,
     "metadata": {},
     "output_type": "execute_result"
    }
   ],
   "source": [
    "ar.groupby(['Positivity']).size()"
   ]
  },
  {
   "cell_type": "markdown",
   "metadata": {},
   "source": [
    "#### The data is imbalanced with only 16% of observations in the negative category. Hence we would use under sampling technique to balance the data. We would increase the % of negative observations to 33%."
   ]
  },
  {
   "cell_type": "markdown",
   "metadata": {},
   "source": [
    "### Random under sampling technique to balance the data set."
   ]
  },
  {
   "cell_type": "code",
   "execution_count": 13,
   "metadata": {},
   "outputs": [],
   "source": [
    "# Perform undersampling majority group\n",
    "minorityN = len(ar[ar.Positivity == 0])*2\n",
    "minority_indices = ar[ar.Positivity == 0].index\n",
    "minority_sample = ar.loc[minority_indices]"
   ]
  },
  {
   "cell_type": "code",
   "execution_count": 14,
   "metadata": {},
   "outputs": [],
   "source": [
    "majority_indices = ar[ar.Positivity == 1].index\n",
    " # use the low-frequency group count to randomly sample from high-frequency group\n",
    "random_indices = np.random.choice(majority_indices, minorityN, replace=False)\n",
    "majority_sample = ar.loc[random_indices]"
   ]
  },
  {
   "cell_type": "code",
   "execution_count": 15,
   "metadata": {},
   "outputs": [],
   "source": [
    "# merging all the low-frequency group sample and the new (randomly selected) high-frequency sample together\n",
    "merged_sample = pd.concat([minority_sample, majority_sample], ignore_index=True) "
   ]
  },
  {
   "cell_type": "code",
   "execution_count": 16,
   "metadata": {},
   "outputs": [],
   "source": [
    "ar=merged_sample"
   ]
  },
  {
   "cell_type": "code",
   "execution_count": 17,
   "metadata": {},
   "outputs": [
    {
     "data": {
      "text/html": [
       "<div>\n",
       "<style scoped>\n",
       "    .dataframe tbody tr th:only-of-type {\n",
       "        vertical-align: middle;\n",
       "    }\n",
       "\n",
       "    .dataframe tbody tr th {\n",
       "        vertical-align: top;\n",
       "    }\n",
       "\n",
       "    .dataframe thead th {\n",
       "        text-align: right;\n",
       "    }\n",
       "</style>\n",
       "<table border=\"1\" class=\"dataframe\">\n",
       "  <thead>\n",
       "    <tr style=\"text-align: right;\">\n",
       "      <th></th>\n",
       "      <th>Score</th>\n",
       "      <th>Text</th>\n",
       "      <th>Positivity</th>\n",
       "    </tr>\n",
       "  </thead>\n",
       "  <tbody>\n",
       "    <tr>\n",
       "      <th>0</th>\n",
       "      <td>1</td>\n",
       "      <td>#* ++--  #Product'' &gt;arri&gt;ved labeled as Jumbo...</td>\n",
       "      <td>0</td>\n",
       "    </tr>\n",
       "    <tr>\n",
       "      <th>1</th>\n",
       "      <td>2</td>\n",
       "      <td>If you are looking for the secret ingredient i...</td>\n",
       "      <td>0</td>\n",
       "    </tr>\n",
       "    <tr>\n",
       "      <th>2</th>\n",
       "      <td>1</td>\n",
       "      <td>My cats have been happily eating Felidae Plati...</td>\n",
       "      <td>0</td>\n",
       "    </tr>\n",
       "    <tr>\n",
       "      <th>3</th>\n",
       "      <td>2</td>\n",
       "      <td>I love eating them and they are good for watch...</td>\n",
       "      <td>0</td>\n",
       "    </tr>\n",
       "    <tr>\n",
       "      <th>4</th>\n",
       "      <td>1</td>\n",
       "      <td>The candy is just red , No flavor . Just  plan...</td>\n",
       "      <td>0</td>\n",
       "    </tr>\n",
       "  </tbody>\n",
       "</table>\n",
       "</div>"
      ],
      "text/plain": [
       "   Score                                               Text  Positivity\n",
       "0      1  #* ++--  #Product'' >arri>ved labeled as Jumbo...           0\n",
       "1      2  If you are looking for the secret ingredient i...           0\n",
       "2      1  My cats have been happily eating Felidae Plati...           0\n",
       "3      2  I love eating them and they are good for watch...           0\n",
       "4      1  The candy is just red , No flavor . Just  plan...           0"
      ]
     },
     "execution_count": 17,
     "metadata": {},
     "output_type": "execute_result"
    }
   ],
   "source": [
    "ar.head()"
   ]
  },
  {
   "cell_type": "code",
   "execution_count": 18,
   "metadata": {},
   "outputs": [
    {
     "data": {
      "text/plain": [
       "Positivity\n",
       "0    15868\n",
       "1    31736\n",
       "dtype: int64"
      ]
     },
     "execution_count": 18,
     "metadata": {},
     "output_type": "execute_result"
    }
   ],
   "source": [
    "ar.groupby(['Positivity']).size()"
   ]
  },
  {
   "cell_type": "markdown",
   "metadata": {},
   "source": [
    "### We would use the NLP techniques to clean the text and covert it into a bag of words which would be later converted to a matrix of token counts."
   ]
  },
  {
   "cell_type": "markdown",
   "metadata": {},
   "source": [
    "#### Converting to lowercase"
   ]
  },
  {
   "cell_type": "code",
   "execution_count": 19,
   "metadata": {},
   "outputs": [
    {
     "data": {
      "text/plain": [
       "0    #* ++-- #product'' >arri>ved labeled as jumbo ...\n",
       "1    if you are looking for the secret ingredient i...\n",
       "2    my cats have been happily eating felidae plati...\n",
       "3    i love eating them and they are good for watch...\n",
       "4    the candy is just red , no flavor . just plan ...\n",
       "Name: Text, dtype: object"
      ]
     },
     "execution_count": 19,
     "metadata": {},
     "output_type": "execute_result"
    }
   ],
   "source": [
    "ar['Text'] = ar['Text'].apply(lambda x: \" \".join(x.lower() for x in x.split()))\n",
    "ar['Text'].head()"
   ]
  },
  {
   "cell_type": "markdown",
   "metadata": {},
   "source": [
    "#### Removing all Punctuation, Special characters"
   ]
  },
  {
   "cell_type": "code",
   "execution_count": 20,
   "metadata": {},
   "outputs": [],
   "source": [
    "ar['Text']=ar['Text'].str.replace('[^\\w\\s]','')"
   ]
  },
  {
   "cell_type": "code",
   "execution_count": 21,
   "metadata": {},
   "outputs": [
    {
     "data": {
      "text/plain": [
       "0      product arrived labeled as jumbo salted pean...\n",
       "1    if you are looking for the secret ingredient i...\n",
       "2    my cats have been happily eating felidae plati...\n",
       "3    i love eating them and they are good for watch...\n",
       "4    the candy is just red  no flavor  just plan an...\n",
       "Name: Text, dtype: object"
      ]
     },
     "execution_count": 21,
     "metadata": {},
     "output_type": "execute_result"
    }
   ],
   "source": [
    "ar['Text'].head()"
   ]
  },
  {
   "cell_type": "markdown",
   "metadata": {},
   "source": [
    "#### Stop words removal"
   ]
  },
  {
   "cell_type": "code",
   "execution_count": 22,
   "metadata": {},
   "outputs": [
    {
     "name": "stderr",
     "output_type": "stream",
     "text": [
      "[nltk_data] Downloading package stopwords to\n",
      "[nltk_data]     C:\\Users\\Prabha\\AppData\\Roaming\\nltk_data...\n",
      "[nltk_data]   Package stopwords is already up-to-date!\n"
     ]
    }
   ],
   "source": [
    "import nltk\n",
    "from nltk.corpus import stopwords\n",
    "nltk.download('stopwords')\n",
    "stopwords = stopwords.words('english')"
   ]
  },
  {
   "cell_type": "code",
   "execution_count": 23,
   "metadata": {},
   "outputs": [
    {
     "data": {
      "text/plain": [
       "0    product arrived labeled jumbo salted peanutsth...\n",
       "1    looking secret ingredient robitussin believe f...\n",
       "2    cats happily eating felidae platinum two years...\n",
       "3    love eating good watching tv looking movies sw...\n",
       "4          candy red flavor plan chewy would never buy\n",
       "Name: Text, dtype: object"
      ]
     },
     "execution_count": 23,
     "metadata": {},
     "output_type": "execute_result"
    }
   ],
   "source": [
    "ar['Text'] = ar['Text'].apply(lambda x: \" \".join(x for x in x.split() if x not in stopwords))\n",
    "ar['Text'].head()"
   ]
  },
  {
   "cell_type": "markdown",
   "metadata": {},
   "source": [
    "#### Common words removal as these words do not add any value to the analysis"
   ]
  },
  {
   "cell_type": "code",
   "execution_count": 24,
   "metadata": {},
   "outputs": [
    {
     "data": {
      "text/plain": [
       "br         23154\n",
       "like       22123\n",
       "good       15711\n",
       "one        14620\n",
       "taste      14556\n",
       "product    13179\n",
       "great      12257\n",
       "flavor     11679\n",
       "coffee     11378\n",
       "would      11195\n",
       "dtype: int64"
      ]
     },
     "execution_count": 24,
     "metadata": {},
     "output_type": "execute_result"
    }
   ],
   "source": [
    "freq = pd.Series(' '.join(ar['Text']).split()).value_counts()[:10]\n",
    "freq"
   ]
  },
  {
   "cell_type": "code",
   "execution_count": 25,
   "metadata": {},
   "outputs": [
    {
     "data": {
      "text/plain": [
       "pandas.core.series.Series"
      ]
     },
     "execution_count": 25,
     "metadata": {},
     "output_type": "execute_result"
    }
   ],
   "source": [
    "type(freq)"
   ]
  },
  {
   "cell_type": "markdown",
   "metadata": {},
   "source": [
    "#### As 'like', 'good', 'great' are considered positive, except these the other words are removed"
   ]
  },
  {
   "cell_type": "code",
   "execution_count": 26,
   "metadata": {},
   "outputs": [],
   "source": [
    "freq=freq.drop(freq.index[[1,2,6]])"
   ]
  },
  {
   "cell_type": "code",
   "execution_count": 27,
   "metadata": {},
   "outputs": [
    {
     "data": {
      "text/plain": [
       "br         23154\n",
       "one        14620\n",
       "taste      14556\n",
       "product    13179\n",
       "flavor     11679\n",
       "coffee     11378\n",
       "would      11195\n",
       "dtype: int64"
      ]
     },
     "execution_count": 27,
     "metadata": {},
     "output_type": "execute_result"
    }
   ],
   "source": [
    "freq"
   ]
  },
  {
   "cell_type": "code",
   "execution_count": 28,
   "metadata": {},
   "outputs": [
    {
     "data": {
      "text/plain": [
       "0    arrived labeled jumbo salted peanutsthe peanut...\n",
       "1    looking secret ingredient robitussin believe f...\n",
       "2    cats happily eating felidae platinum two years...\n",
       "3    love eating good watching tv looking movies sw...\n",
       "4                       candy red plan chewy never buy\n",
       "Name: Text, dtype: object"
      ]
     },
     "execution_count": 28,
     "metadata": {},
     "output_type": "execute_result"
    }
   ],
   "source": [
    "freq = list(freq.index)\n",
    "ar['Text'] = ar['Text'].apply(lambda x: \" \".join(x for x in x.split() if x not in freq))\n",
    "ar['Text'].head()"
   ]
  },
  {
   "cell_type": "markdown",
   "metadata": {},
   "source": [
    "#### Rare words removal as these words do not add any value to the analysis"
   ]
  },
  {
   "cell_type": "code",
   "execution_count": 29,
   "metadata": {},
   "outputs": [
    {
     "data": {
      "text/plain": [
       "roastgrilled           1\n",
       "houseto                1\n",
       "currantsbr             1\n",
       "caloriethey            1\n",
       "largers                1\n",
       "sodahellothe           1\n",
       "sourcream              1\n",
       "convoluted             1\n",
       "2gms                   1\n",
       "interfaces             1\n",
       "feverbr                1\n",
       "gerrym                 1\n",
       "clened                 1\n",
       "whered                 1\n",
       "maltesepoodle          1\n",
       "intensed               1\n",
       "libation               1\n",
       "akitas                 1\n",
       "tetrpak                1\n",
       "ice20                  1\n",
       "qtip                   1\n",
       "germanenglish          1\n",
       "dissenter              1\n",
       "astonishes             1\n",
       "chaiaholic             1\n",
       "captains               1\n",
       "organismbr             1\n",
       "fleabr                 1\n",
       "indianspiced           1\n",
       "stewi                  1\n",
       "butterits              1\n",
       "deemedbr               1\n",
       "impressedas            1\n",
       "staleseeming           1\n",
       "uneaven                1\n",
       "profuct                1\n",
       "dudesame               1\n",
       "datsun                 1\n",
       "6inch                  1\n",
       "forthis                1\n",
       "brokenthis             1\n",
       "peoplesmells           1\n",
       "garibaldi              1\n",
       "disappointedhowever    1\n",
       "attractedbr            1\n",
       "ellison                1\n",
       "grody                  1\n",
       "revelations            1\n",
       "freefloating           1\n",
       "timehaving             1\n",
       "dtype: int64"
      ]
     },
     "execution_count": 29,
     "metadata": {},
     "output_type": "execute_result"
    }
   ],
   "source": [
    "freq = pd.Series(' '.join(ar['Text']).split()).value_counts()[-50:]\n",
    "freq"
   ]
  },
  {
   "cell_type": "code",
   "execution_count": 30,
   "metadata": {},
   "outputs": [
    {
     "data": {
      "text/plain": [
       "0    arrived labeled jumbo salted peanutsthe peanut...\n",
       "1    looking secret ingredient robitussin believe f...\n",
       "2    cats happily eating felidae platinum two years...\n",
       "3    love eating good watching tv looking movies sw...\n",
       "4                       candy red plan chewy never buy\n",
       "Name: Text, dtype: object"
      ]
     },
     "execution_count": 30,
     "metadata": {},
     "output_type": "execute_result"
    }
   ],
   "source": [
    "freq = list(freq.index)\n",
    "ar['Text'] = ar['Text'].apply(lambda x: \" \".join(x for x in x.split() if x not in freq))\n",
    "ar['Text'].head()"
   ]
  },
  {
   "cell_type": "markdown",
   "metadata": {},
   "source": [
    "#### Lemmatization to convert the words to their basic form"
   ]
  },
  {
   "cell_type": "code",
   "execution_count": 31,
   "metadata": {},
   "outputs": [],
   "source": [
    "import nltk\n",
    "wn = nltk.WordNetLemmatizer()\n",
    "from nltk.tokenize import word_tokenize "
   ]
  },
  {
   "cell_type": "code",
   "execution_count": 32,
   "metadata": {},
   "outputs": [
    {
     "data": {
      "text/html": [
       "<div>\n",
       "<style scoped>\n",
       "    .dataframe tbody tr th:only-of-type {\n",
       "        vertical-align: middle;\n",
       "    }\n",
       "\n",
       "    .dataframe tbody tr th {\n",
       "        vertical-align: top;\n",
       "    }\n",
       "\n",
       "    .dataframe thead th {\n",
       "        text-align: right;\n",
       "    }\n",
       "</style>\n",
       "<table border=\"1\" class=\"dataframe\">\n",
       "  <thead>\n",
       "    <tr style=\"text-align: right;\">\n",
       "      <th></th>\n",
       "      <th>Score</th>\n",
       "      <th>Text</th>\n",
       "      <th>Positivity</th>\n",
       "      <th>Text_lemmatized</th>\n",
       "    </tr>\n",
       "  </thead>\n",
       "  <tbody>\n",
       "    <tr>\n",
       "      <th>0</th>\n",
       "      <td>1</td>\n",
       "      <td>arrived labeled jumbo salted peanutsthe peanut...</td>\n",
       "      <td>0</td>\n",
       "      <td>[arrive, label, jumbo, salt, peanutsthe, peanu...</td>\n",
       "    </tr>\n",
       "    <tr>\n",
       "      <th>1</th>\n",
       "      <td>2</td>\n",
       "      <td>looking secret ingredient robitussin believe f...</td>\n",
       "      <td>0</td>\n",
       "      <td>[look, secret, ingredient, robitussin, believe...</td>\n",
       "    </tr>\n",
       "    <tr>\n",
       "      <th>2</th>\n",
       "      <td>1</td>\n",
       "      <td>cats happily eating felidae platinum two years...</td>\n",
       "      <td>0</td>\n",
       "      <td>[cat, happily, eat, felidae, platinum, two, ye...</td>\n",
       "    </tr>\n",
       "    <tr>\n",
       "      <th>3</th>\n",
       "      <td>2</td>\n",
       "      <td>love eating good watching tv looking movies sw...</td>\n",
       "      <td>0</td>\n",
       "      <td>[love, eat, good, watch, tv, look, movies, swe...</td>\n",
       "    </tr>\n",
       "    <tr>\n",
       "      <th>4</th>\n",
       "      <td>1</td>\n",
       "      <td>candy red plan chewy never buy</td>\n",
       "      <td>0</td>\n",
       "      <td>[candy, red, plan, chewy, never, buy]</td>\n",
       "    </tr>\n",
       "    <tr>\n",
       "      <th>5</th>\n",
       "      <td>1</td>\n",
       "      <td>oatmeal good mushy soft dont like quaker oats ...</td>\n",
       "      <td>0</td>\n",
       "      <td>[oatmeal, good, mushy, soft, dont, like, quake...</td>\n",
       "    </tr>\n",
       "    <tr>\n",
       "      <th>6</th>\n",
       "      <td>1</td>\n",
       "      <td>arrived 6 days stale could eat 6 bags</td>\n",
       "      <td>0</td>\n",
       "      <td>[arrive, 6, days, stale, could, eat, 6, bag]</td>\n",
       "    </tr>\n",
       "    <tr>\n",
       "      <th>7</th>\n",
       "      <td>2</td>\n",
       "      <td>purchased mango doesnt take like mango hint sw...</td>\n",
       "      <td>0</td>\n",
       "      <td>[purchase, mango, doesnt, take, like, mango, h...</td>\n",
       "    </tr>\n",
       "    <tr>\n",
       "      <th>8</th>\n",
       "      <td>1</td>\n",
       "      <td>buyer beware please sweetener everybody maltit...</td>\n",
       "      <td>0</td>\n",
       "      <td>[buyer, beware, please, sweetener, everybody, ...</td>\n",
       "    </tr>\n",
       "    <tr>\n",
       "      <th>9</th>\n",
       "      <td>2</td>\n",
       "      <td>okay go way buy</td>\n",
       "      <td>0</td>\n",
       "      <td>[okay, go, way, buy]</td>\n",
       "    </tr>\n",
       "  </tbody>\n",
       "</table>\n",
       "</div>"
      ],
      "text/plain": [
       "   Score                                               Text  Positivity  \\\n",
       "0      1  arrived labeled jumbo salted peanutsthe peanut...           0   \n",
       "1      2  looking secret ingredient robitussin believe f...           0   \n",
       "2      1  cats happily eating felidae platinum two years...           0   \n",
       "3      2  love eating good watching tv looking movies sw...           0   \n",
       "4      1                     candy red plan chewy never buy           0   \n",
       "5      1  oatmeal good mushy soft dont like quaker oats ...           0   \n",
       "6      1              arrived 6 days stale could eat 6 bags           0   \n",
       "7      2  purchased mango doesnt take like mango hint sw...           0   \n",
       "8      1  buyer beware please sweetener everybody maltit...           0   \n",
       "9      2                                    okay go way buy           0   \n",
       "\n",
       "                                     Text_lemmatized  \n",
       "0  [arrive, label, jumbo, salt, peanutsthe, peanu...  \n",
       "1  [look, secret, ingredient, robitussin, believe...  \n",
       "2  [cat, happily, eat, felidae, platinum, two, ye...  \n",
       "3  [love, eat, good, watch, tv, look, movies, swe...  \n",
       "4              [candy, red, plan, chewy, never, buy]  \n",
       "5  [oatmeal, good, mushy, soft, dont, like, quake...  \n",
       "6       [arrive, 6, days, stale, could, eat, 6, bag]  \n",
       "7  [purchase, mango, doesnt, take, like, mango, h...  \n",
       "8  [buyer, beware, please, sweetener, everybody, ...  \n",
       "9                               [okay, go, way, buy]  "
      ]
     },
     "execution_count": 32,
     "metadata": {},
     "output_type": "execute_result"
    }
   ],
   "source": [
    "def lemmatizing(original_text):\n",
    "    tokenized_text=word_tokenize(original_text)\n",
    "    text = [wn.lemmatize(word, pos=\"v\") for word in tokenized_text]\n",
    "    return text\n",
    "\n",
    "ar['Text_lemmatized'] = ar['Text'].apply(lambda x: lemmatizing(x))\n",
    "\n",
    "ar.head(10)"
   ]
  },
  {
   "cell_type": "markdown",
   "metadata": {},
   "source": []
  },
  {
   "cell_type": "markdown",
   "metadata": {},
   "source": [
    "#### Dropping the text coloumn and using the lemmatized text coloumn"
   ]
  },
  {
   "cell_type": "code",
   "execution_count": 33,
   "metadata": {},
   "outputs": [
    {
     "data": {
      "text/plain": [
       "pandas.core.frame.DataFrame"
      ]
     },
     "execution_count": 33,
     "metadata": {},
     "output_type": "execute_result"
    }
   ],
   "source": [
    "type(ar)"
   ]
  },
  {
   "cell_type": "code",
   "execution_count": 34,
   "metadata": {},
   "outputs": [],
   "source": [
    "ar=ar.drop('Text',1)"
   ]
  },
  {
   "cell_type": "code",
   "execution_count": 35,
   "metadata": {},
   "outputs": [],
   "source": [
    "ar = ar.rename(columns={'Text_lemmatized': 'Text'})"
   ]
  },
  {
   "cell_type": "code",
   "execution_count": 36,
   "metadata": {},
   "outputs": [],
   "source": [
    "ar['Text'] = ar['Text'].apply(lambda x: ','.join(map(str, x)))"
   ]
  },
  {
   "cell_type": "code",
   "execution_count": 37,
   "metadata": {},
   "outputs": [],
   "source": [
    "ar['Text']=ar['Text'].str.replace('[^\\w\\s]',' ')"
   ]
  },
  {
   "cell_type": "code",
   "execution_count": 38,
   "metadata": {},
   "outputs": [
    {
     "data": {
      "text/html": [
       "<div>\n",
       "<style scoped>\n",
       "    .dataframe tbody tr th:only-of-type {\n",
       "        vertical-align: middle;\n",
       "    }\n",
       "\n",
       "    .dataframe tbody tr th {\n",
       "        vertical-align: top;\n",
       "    }\n",
       "\n",
       "    .dataframe thead th {\n",
       "        text-align: right;\n",
       "    }\n",
       "</style>\n",
       "<table border=\"1\" class=\"dataframe\">\n",
       "  <thead>\n",
       "    <tr style=\"text-align: right;\">\n",
       "      <th></th>\n",
       "      <th>Score</th>\n",
       "      <th>Positivity</th>\n",
       "      <th>Text</th>\n",
       "    </tr>\n",
       "  </thead>\n",
       "  <tbody>\n",
       "    <tr>\n",
       "      <th>0</th>\n",
       "      <td>1</td>\n",
       "      <td>0</td>\n",
       "      <td>arrive label jumbo salt peanutsthe peanuts act...</td>\n",
       "    </tr>\n",
       "    <tr>\n",
       "      <th>1</th>\n",
       "      <td>2</td>\n",
       "      <td>0</td>\n",
       "      <td>look secret ingredient robitussin believe find...</td>\n",
       "    </tr>\n",
       "    <tr>\n",
       "      <th>2</th>\n",
       "      <td>1</td>\n",
       "      <td>0</td>\n",
       "      <td>cat happily eat felidae platinum two years get...</td>\n",
       "    </tr>\n",
       "    <tr>\n",
       "      <th>3</th>\n",
       "      <td>2</td>\n",
       "      <td>0</td>\n",
       "      <td>love eat good watch tv look movies sweet like ...</td>\n",
       "    </tr>\n",
       "    <tr>\n",
       "      <th>4</th>\n",
       "      <td>1</td>\n",
       "      <td>0</td>\n",
       "      <td>candy red plan chewy never buy</td>\n",
       "    </tr>\n",
       "  </tbody>\n",
       "</table>\n",
       "</div>"
      ],
      "text/plain": [
       "   Score  Positivity                                               Text\n",
       "0      1           0  arrive label jumbo salt peanutsthe peanuts act...\n",
       "1      2           0  look secret ingredient robitussin believe find...\n",
       "2      1           0  cat happily eat felidae platinum two years get...\n",
       "3      2           0  love eat good watch tv look movies sweet like ...\n",
       "4      1           0                     candy red plan chewy never buy"
      ]
     },
     "execution_count": 38,
     "metadata": {},
     "output_type": "execute_result"
    }
   ],
   "source": [
    "ar.head()"
   ]
  },
  {
   "cell_type": "markdown",
   "metadata": {},
   "source": [
    "#### Using word cloud to view words with high frequency with positive and negative scores."
   ]
  },
  {
   "cell_type": "code",
   "execution_count": 39,
   "metadata": {},
   "outputs": [],
   "source": [
    "arp=ar[ar['Positivity'] == 1]"
   ]
  },
  {
   "cell_type": "code",
   "execution_count": 40,
   "metadata": {},
   "outputs": [],
   "source": [
    "arn=ar[ar['Positivity'] == 0]"
   ]
  },
  {
   "cell_type": "code",
   "execution_count": 41,
   "metadata": {},
   "outputs": [],
   "source": [
    "freqp= pd.Series(' '.join(arp['Text']).split()).value_counts()"
   ]
  },
  {
   "cell_type": "code",
   "execution_count": 42,
   "metadata": {},
   "outputs": [
    {
     "data": {
      "text/plain": [
       "like     15133\n",
       "love     11613\n",
       "good     11519\n",
       "great    10609\n",
       "get      10105\n",
       "make      9828\n",
       "use       9491\n",
       "try       9108\n",
       "buy       7998\n",
       "tea       7927\n",
       "dtype: int64"
      ]
     },
     "execution_count": 42,
     "metadata": {},
     "output_type": "execute_result"
    }
   ],
   "source": [
    "freqp.head(10)"
   ]
  },
  {
   "cell_type": "code",
   "execution_count": 43,
   "metadata": {},
   "outputs": [],
   "source": [
    "freqn = pd.Series(' '.join(arn['Text']).split()).value_counts()"
   ]
  },
  {
   "cell_type": "code",
   "execution_count": 44,
   "metadata": {},
   "outputs": [
    {
     "data": {
      "text/plain": [
       "like    9299\n",
       "buy     6002\n",
       "get     5855\n",
       "try     5111\n",
       "make    4854\n",
       "good    4192\n",
       "use     4133\n",
       "eat     4081\n",
       "food    3974\n",
       "dog     3926\n",
       "dtype: int64"
      ]
     },
     "execution_count": 44,
     "metadata": {},
     "output_type": "execute_result"
    }
   ],
   "source": [
    "freqn.head(10)"
   ]
  },
  {
   "cell_type": "code",
   "execution_count": 45,
   "metadata": {},
   "outputs": [],
   "source": [
    "from wordcloud import WordCloud"
   ]
  },
  {
   "cell_type": "code",
   "execution_count": 46,
   "metadata": {},
   "outputs": [],
   "source": [
    "wp = WordCloud().generate(' '.join(arp['Text']))"
   ]
  },
  {
   "cell_type": "code",
   "execution_count": 47,
   "metadata": {},
   "outputs": [],
   "source": [
    "wn = WordCloud().generate(' '.join(arn['Text']))"
   ]
  },
  {
   "cell_type": "code",
   "execution_count": 48,
   "metadata": {},
   "outputs": [
    {
     "data": {
      "image/png": "[encoded data removed]",
      "text/plain": [
       "<Figure size 432x288 with 1 Axes>"
      ]
     },
     "metadata": {
      "needs_background": "light"
     },
     "output_type": "display_data"
    }
   ],
   "source": [
    "import matplotlib.pyplot as plt\n",
    "plt.imshow(wp,interpolation='bilinear')\n",
    "plt.axis(\"off\")\n",
    "plt.show()"
   ]
  },
  {
   "cell_type": "code",
   "execution_count": 49,
   "metadata": {},
   "outputs": [
    {
     "data": {
      "image/png": "[encoded data removed]",
      "text/plain": [
       "<Figure size 432x288 with 1 Axes>"
      ]
     },
     "metadata": {
      "needs_background": "light"
     },
     "output_type": "display_data"
    }
   ],
   "source": [
    "import matplotlib.pyplot as plt\n",
    "plt.imshow(wn,interpolation='bilinear')\n",
    "plt.axis(\"off\")\n",
    "plt.show()"
   ]
  },
  {
   "cell_type": "markdown",
   "metadata": {},
   "source": [
    "### Train-Test split using SciKit learn"
   ]
  },
  {
   "cell_type": "code",
   "execution_count": 50,
   "metadata": {},
   "outputs": [],
   "source": [
    "from sklearn.model_selection import train_test_split"
   ]
  },
  {
   "cell_type": "code",
   "execution_count": 51,
   "metadata": {},
   "outputs": [],
   "source": [
    "X_train, X_test, y_train, y_test = train_test_split(ar['Text'], ar['Positivity'], test_size=0.3, random_state =100)"
   ]
  },
  {
   "cell_type": "code",
   "execution_count": 52,
   "metadata": {},
   "outputs": [
    {
     "name": "stdout",
     "output_type": "stream",
     "text": [
      "\n",
      "X_train shape:  (33322,)\n",
      "\n",
      "X_test shape:  (14282,)\n"
     ]
    }
   ],
   "source": [
    "print('\\nX_train shape: ', X_train.shape)\n",
    "print('\\nX_test shape: ', X_test.shape)"
   ]
  },
  {
   "cell_type": "markdown",
   "metadata": {},
   "source": [
    "### CountVectorizer to Convert a collection of text to a matrix of token counts. Hyperparameters are passed to delete Stop words and also create bigrams."
   ]
  },
  {
   "cell_type": "code",
   "execution_count": 53,
   "metadata": {},
   "outputs": [
    {
     "data": {
      "text/plain": [
       "CountVectorizer(analyzer='word', binary=False, decode_error='strict',\n",
       "        dtype=<class 'numpy.int64'>, encoding='utf-8', input='content',\n",
       "        lowercase=True, max_df=1.0, max_features=None, min_df=1,\n",
       "        ngram_range=(1, 2), preprocessor=None, stop_words='english',\n",
       "        strip_accents=None, token_pattern='(?u)\\\\b\\\\w\\\\w+\\\\b',\n",
       "        tokenizer=None, vocabulary=None)"
      ]
     },
     "execution_count": 53,
     "metadata": {},
     "output_type": "execute_result"
    }
   ],
   "source": [
    "from sklearn.feature_extraction.text import CountVectorizer\n",
    "vect = CountVectorizer( stop_words='english', ngram_range=(1,2)).fit(X_train)\n",
    "vect"
   ]
  },
  {
   "cell_type": "code",
   "execution_count": 54,
   "metadata": {},
   "outputs": [
    {
     "data": {
      "text/plain": [
       "['00',\n",
       " '12 diameter',\n",
       " '1688 bpp',\n",
       " '20yr',\n",
       " '300 24oz',\n",
       " '48 pod',\n",
       " '6g wish',\n",
       " 'able attest',\n",
       " 'acid nearly',\n",
       " 'add difficult',\n",
       " 'adjust immediately',\n",
       " 'afternoon treat',\n",
       " 'air active',\n",
       " 'allpurpose flour',\n",
       " 'amaze salt',\n",
       " 'american pavilion',\n",
       " 'anymore generic',\n",
       " 'appointments teeth',\n",
       " 'arrangementsand return',\n",
       " 'assam 30lb',\n",
       " 'available customers',\n",
       " 'awesome lunch',\n",
       " 'bad la',\n",
       " 'bag totw',\n",
       " 'bannana taste',\n",
       " 'base pet',\n",
       " 'bean doubt',\n",
       " 'beer youd',\n",
       " 'bernie 6065',\n",
       " 'better equip',\n",
       " 'big pencil',\n",
       " 'bite niacin',\n",
       " 'blaha hrefhttpwwwamazoncomgpproductb001d05rwckind',\n",
       " 'blueberry lemon',\n",
       " 'boost benefit',\n",
       " 'bowl think',\n",
       " 'brace youre',\n",
       " 'bread work',\n",
       " 'brewer die',\n",
       " 'brush rinse',\n",
       " 'burgerinduced demise',\n",
       " 'buy area',\n",
       " 'buy yamamotoyama',\n",
       " 'calm respiratory',\n",
       " 'candyar arrrrh',\n",
       " 'carbs generally',\n",
       " 'cart remember',\n",
       " 'catagory wont',\n",
       " 'cereal happen',\n",
       " 'change kibble',\n",
       " 'checkups amazon',\n",
       " 'cherry white',\n",
       " 'chiguagua',\n",
       " 'chip unmistakablea',\n",
       " 'chocolaty delight',\n",
       " 'ciao',\n",
       " 'clear good',\n",
       " 'coat honeybr',\n",
       " 'coke know',\n",
       " 'combo justyumm',\n",
       " 'common lactose',\n",
       " 'complaint couple',\n",
       " 'condiments highly',\n",
       " 'consistently meal',\n",
       " 'containers solid',\n",
       " 'cook gadgets',\n",
       " 'coordinate consumer',\n",
       " 'count fiberbr',\n",
       " 'cracker wafer',\n",
       " 'creamy bowl',\n",
       " 'crunch crunch',\n",
       " 'cup milk',\n",
       " 'cut surface',\n",
       " 'darkness color',\n",
       " 'dayor nightand',\n",
       " 'decent frankly',\n",
       " 'degrees search',\n",
       " 'delivery nice',\n",
       " 'desperate measure',\n",
       " 'didnt appear',\n",
       " 'differences tea',\n",
       " 'dinner son',\n",
       " 'disc come',\n",
       " 'dispensers say',\n",
       " 'dog agility',\n",
       " 'dome pool',\n",
       " 'dough kinda',\n",
       " 'drink market',\n",
       " 'dry fondant',\n",
       " 'ease load',\n",
       " 'eat glutenfree',\n",
       " 'edge stonger',\n",
       " 'email reply',\n",
       " 'enhance food',\n",
       " 'environmental friendly',\n",
       " 'eucalyptus',\n",
       " 'excellent room',\n",
       " 'expectations treat',\n",
       " 'extend difficulty',\n",
       " 'fact simple',\n",
       " 'fan far',\n",
       " 'fast treat',\n",
       " 'favorite spinach',\n",
       " 'feel remember',\n",
       " 'filler harmful',\n",
       " 'finn',\n",
       " 'flavor chemicals',\n",
       " 'flax sunfloweroat',\n",
       " 'folks olive',\n",
       " 'food strong',\n",
       " 'form bacon',\n",
       " 'free crunchy',\n",
       " 'fresher bag',\n",
       " 'fruit veggies',\n",
       " 'fyi thing',\n",
       " 'generous store',\n",
       " 'girls exclusively',\n",
       " 'gold bear',\n",
       " 'good rise',\n",
       " 'grade plastic',\n",
       " 'gravy train',\n",
       " 'great unlock',\n",
       " 'grip place',\n",
       " 'guess wait',\n",
       " 'hairballs hairball',\n",
       " 'hang adjust',\n",
       " 'hardest',\n",
       " 'health chewable',\n",
       " 'heat grease',\n",
       " 'herbal remedy',\n",
       " 'highly nutritious',\n",
       " 'home fraction',\n",
       " 'hope folks',\n",
       " 'hours filter',\n",
       " 'hrefhttpwwwamazoncomgpproductb002ofuc8ojack link',\n",
       " 'husband theyre',\n",
       " 'ii dog',\n",
       " 'immediate standout',\n",
       " 'include dietary',\n",
       " 'inexpensive edible',\n",
       " 'ingredients wed',\n",
       " 'instead plain',\n",
       " 'involve diminish',\n",
       " 'itbr combine',\n",
       " 'ive hadnow',\n",
       " 'jellybr breadbr',\n",
       " 'juice suppose',\n",
       " 'keilbasapolich sausage',\n",
       " 'kill leave',\n",
       " 'knockdown fight',\n",
       " 'kristallsalz',\n",
       " 'large cat',\n",
       " 'lazy nights',\n",
       " 'lebkuchen buy',\n",
       " 'level readable',\n",
       " 'lighter smoother',\n",
       " 'like lara',\n",
       " 'likely ahead',\n",
       " 'list chip',\n",
       " 'little simpler',\n",
       " 'loinbr prefer',\n",
       " 'look place',\n",
       " 'lot vitaminsno',\n",
       " 'love small',\n",
       " 'luggage',\n",
       " 'mainly love',\n",
       " 'make popcorn',\n",
       " 'mango ones',\n",
       " 'mart store',\n",
       " 'mayo like',\n",
       " 'meat strain',\n",
       " 'memory touch',\n",
       " 'michaels try',\n",
       " 'milkbr breeze',\n",
       " 'minutes older',\n",
       " 'mix overwhelm',\n",
       " 'mom hook',\n",
       " 'mood keurig',\n",
       " 'mouthwatering version',\n",
       " 'muy buenos',\n",
       " 'near bed',\n",
       " 'neglect late',\n",
       " 'nice designbr',\n",
       " 'nonglycemic',\n",
       " 'note breakage',\n",
       " 'nursettes retrospect',\n",
       " 'oatmeals fruit',\n",
       " 'offer low',\n",
       " 'ok hellmans',\n",
       " 'onbr',\n",
       " 'open make',\n",
       " 'order arrive',\n",
       " 'organic kosher',\n",
       " 'outback live',\n",
       " 'overspice eagerly',\n",
       " 'pack season',\n",
       " 'packets fiber',\n",
       " 'paprika base',\n",
       " 'pasta usually',\n",
       " 'peanuts felt',\n",
       " 'pepper provence',\n",
       " 'person likely',\n",
       " 'pickle taste',\n",
       " 'pineapple particular',\n",
       " 'plantaka',\n",
       " 'plus tin',\n",
       " 'poor word',\n",
       " 'position minutes',\n",
       " 'pound amaze',\n",
       " 'prefer blend',\n",
       " 'preservers know',\n",
       " 'price instead',\n",
       " 'probably synthetic',\n",
       " 'produce sugar',\n",
       " 'prompt directions',\n",
       " 'psyllium higher',\n",
       " 'purchase dinners',\n",
       " 'qc problem',\n",
       " 'quickly case',\n",
       " 'rancid stale',\n",
       " 'read 350',\n",
       " 'really expensive',\n",
       " 'receive march',\n",
       " 'recommend kind',\n",
       " 'refresh arent',\n",
       " 'rehydrated mushy',\n",
       " 'remover sensitive',\n",
       " 'resemblancebr',\n",
       " 'retain level',\n",
       " 'reviewers smoky',\n",
       " 'right dampbr',\n",
       " 'roast morning',\n",
       " 'rougie',\n",
       " 'sadly 23',\n",
       " 'salt organic',\n",
       " 'satisfactory brewbr',\n",
       " 'savior',\n",
       " 'say weeks',\n",
       " 'seal foil',\n",
       " 'seed need',\n",
       " 'send flavor',\n",
       " 'serve worry',\n",
       " 'shape paint',\n",
       " 'ship half',\n",
       " 'shots better',\n",
       " 'simmer water',\n",
       " 'situation case',\n",
       " 'slice dip',\n",
       " 'small way',\n",
       " 'smooth sprightly',\n",
       " 'soak serve',\n",
       " 'solids protein',\n",
       " 'sort remedy',\n",
       " 'spaniel new',\n",
       " 'spicier fridge',\n",
       " 'spread mouth',\n",
       " 'standard aftertaste',\n",
       " 'start soreness',\n",
       " 'sterilizedso',\n",
       " 'stock practically',\n",
       " 'store southeastern',\n",
       " 'stripe break',\n",
       " 'stuff store',\n",
       " 'suck wont',\n",
       " 'suggest edgar',\n",
       " 'supplement firm',\n",
       " 'surprise company',\n",
       " 'sweet win',\n",
       " 'symptoms begin',\n",
       " 'tall cup',\n",
       " 'taste texture',\n",
       " 'tea average',\n",
       " 'tear postal',\n",
       " 'temperature boil',\n",
       " 'texture baby',\n",
       " 'thats serve',\n",
       " 'theyve introduce',\n",
       " 'think cover',\n",
       " 'threshold',\n",
       " 'time ideas',\n",
       " 'tire plain',\n",
       " 'toobr bite',\n",
       " 'toxic ingriedant',\n",
       " 'tray raise',\n",
       " 'trick dunno',\n",
       " 'try bear',\n",
       " 'try turkey',\n",
       " 'twice real',\n",
       " 'unclog ground',\n",
       " 'unless love',\n",
       " 'uptake metabolism',\n",
       " 'use modify',\n",
       " 'usually lowest',\n",
       " 'variety meat',\n",
       " 'verify',\n",
       " 'visible differences',\n",
       " 'waiter wide',\n",
       " 'warehouse way',\n",
       " 'water chill',\n",
       " 'way mixture',\n",
       " 'week share',\n",
       " 'westie worst',\n",
       " 'whove bear',\n",
       " 'withbr gift',\n",
       " 'word treat',\n",
       " 'worse taste',\n",
       " 'wrong allnatural',\n",
       " 'years research',\n",
       " 'young energetic',\n",
       " 'zip']"
      ]
     },
     "execution_count": 54,
     "metadata": {},
     "output_type": "execute_result"
    }
   ],
   "source": [
    "vect.get_feature_names()[::2000]"
   ]
  },
  {
   "cell_type": "code",
   "execution_count": 55,
   "metadata": {},
   "outputs": [
    {
     "data": {
      "text/plain": [
       "618358"
      ]
     },
     "execution_count": 55,
     "metadata": {},
     "output_type": "execute_result"
    }
   ],
   "source": [
    "len(vect.get_feature_names())"
   ]
  },
  {
   "cell_type": "code",
   "execution_count": 56,
   "metadata": {},
   "outputs": [
    {
     "data": {
      "text/plain": [
       "<33322x618358 sparse matrix of type '<class 'numpy.int64'>'\n",
       "\twith 2055682 stored elements in Compressed Sparse Row format>"
      ]
     },
     "execution_count": 56,
     "metadata": {},
     "output_type": "execute_result"
    }
   ],
   "source": [
    "X_train_vectorized = vect.transform(X_train)\n",
    "X_test_vectorized = vect.transform(X_test)\n",
    "X_train_vectorized"
   ]
  },
  {
   "cell_type": "markdown",
   "metadata": {},
   "source": [
    "#### Standardizing the data"
   ]
  },
  {
   "cell_type": "code",
   "execution_count": 57,
   "metadata": {},
   "outputs": [],
   "source": [
    "from sklearn.preprocessing import StandardScaler"
   ]
  },
  {
   "cell_type": "code",
   "execution_count": 58,
   "metadata": {},
   "outputs": [
    {
     "name": "stderr",
     "output_type": "stream",
     "text": [
      "C:\\Users\\Prabha\\Anaconda3\\lib\\site-packages\\sklearn\\utils\\validation.py:595: DataConversionWarning: Data with input dtype int64 was converted to float64 by StandardScaler.\n",
      "  warnings.warn(msg, DataConversionWarning)\n"
     ]
    }
   ],
   "source": [
    "sc = StandardScaler(with_mean=False)\n",
    "std_scale = sc.fit(X_train_vectorized)"
   ]
  },
  {
   "cell_type": "code",
   "execution_count": 59,
   "metadata": {},
   "outputs": [],
   "source": [
    "X_train_vectorized_s = std_scale.transform(X_train_vectorized)\n",
    "X_test_vectorized_s = std_scale.transform(X_test_vectorized)"
   ]
  },
  {
   "cell_type": "code",
   "execution_count": 60,
   "metadata": {},
   "outputs": [],
   "source": [
    "#X_train_vectorized = X_train_vectorized_s"
   ]
  },
  {
   "cell_type": "code",
   "execution_count": 61,
   "metadata": {},
   "outputs": [
    {
     "data": {
      "text/plain": [
       "<5x618358 sparse matrix of type '<class 'numpy.float64'>'\n",
       "\twith 496 stored elements in Compressed Sparse Row format>"
      ]
     },
     "execution_count": 61,
     "metadata": {},
     "output_type": "execute_result"
    }
   ],
   "source": [
    "X_train_vectorized_s[:5,]"
   ]
  },
  {
   "cell_type": "markdown",
   "metadata": {},
   "source": [
    "### Fitting Logistic Regression without standardizing data"
   ]
  },
  {
   "cell_type": "code",
   "execution_count": 62,
   "metadata": {},
   "outputs": [
    {
     "name": "stderr",
     "output_type": "stream",
     "text": [
      "C:\\Users\\Prabha\\Anaconda3\\lib\\site-packages\\sklearn\\linear_model\\logistic.py:433: FutureWarning: Default solver will be changed to 'lbfgs' in 0.22. Specify a solver to silence this warning.\n",
      "  FutureWarning)\n"
     ]
    },
    {
     "data": {
      "text/plain": [
       "LogisticRegression(C=1.0, class_weight=None, dual=False, fit_intercept=True,\n",
       "          intercept_scaling=1, max_iter=100, multi_class='warn',\n",
       "          n_jobs=None, penalty='l2', random_state=None, solver='warn',\n",
       "          tol=0.0001, verbose=0, warm_start=False)"
      ]
     },
     "execution_count": 62,
     "metadata": {},
     "output_type": "execute_result"
    }
   ],
   "source": [
    "from sklearn.linear_model import LogisticRegression\n",
    "model = LogisticRegression()\n",
    "model.fit(X_train_vectorized, y_train)"
   ]
  },
  {
   "cell_type": "markdown",
   "metadata": {},
   "source": [
    "#### Accuracy Score, Precision Score, Recall Score, f1 Score"
   ]
  },
  {
   "cell_type": "code",
   "execution_count": 63,
   "metadata": {},
   "outputs": [],
   "source": [
    "from sklearn.metrics import accuracy_score, precision_score, recall_score, f1_score"
   ]
  },
  {
   "cell_type": "code",
   "execution_count": 64,
   "metadata": {},
   "outputs": [],
   "source": [
    "predictions = model.predict(X_test_vectorized)"
   ]
  },
  {
   "cell_type": "code",
   "execution_count": 65,
   "metadata": {},
   "outputs": [
    {
     "name": "stdout",
     "output_type": "stream",
     "text": [
      "              precision    recall  f1-score   support\n",
      "\n",
      "           0       0.88      0.82      0.85      4774\n",
      "           1       0.91      0.94      0.93      9508\n",
      "\n",
      "   micro avg       0.90      0.90      0.90     14282\n",
      "   macro avg       0.89      0.88      0.89     14282\n",
      "weighted avg       0.90      0.90      0.90     14282\n",
      "\n"
     ]
    }
   ],
   "source": [
    "from sklearn.metrics import classification_report\n",
    "\n",
    "print(classification_report(y_test,predictions))"
   ]
  },
  {
   "cell_type": "code",
   "execution_count": 66,
   "metadata": {},
   "outputs": [
    {
     "data": {
      "text/plain": [
       "0.900714185688279"
      ]
     },
     "execution_count": 66,
     "metadata": {},
     "output_type": "execute_result"
    }
   ],
   "source": [
    "accuracy_score(y_test, predictions)"
   ]
  },
  {
   "cell_type": "markdown",
   "metadata": {},
   "source": [
    "#### Confusion Matrix"
   ]
  },
  {
   "cell_type": "code",
   "execution_count": 67,
   "metadata": {},
   "outputs": [],
   "source": [
    "from sklearn.metrics import confusion_matrix\n",
    "%matplotlib inline"
   ]
  },
  {
   "cell_type": "code",
   "execution_count": 68,
   "metadata": {},
   "outputs": [],
   "source": [
    "confusion_mat = confusion_matrix(y_test, predictions)"
   ]
  },
  {
   "cell_type": "code",
   "execution_count": 69,
   "metadata": {},
   "outputs": [],
   "source": [
    "confusion_df = pd.DataFrame(confusion_mat, index=['Actual neg','Actual pos'], columns=['Predicted neg','Predicted pos'])"
   ]
  },
  {
   "cell_type": "code",
   "execution_count": 70,
   "metadata": {},
   "outputs": [
    {
     "data": {
      "text/html": [
       "<div>\n",
       "<style scoped>\n",
       "    .dataframe tbody tr th:only-of-type {\n",
       "        vertical-align: middle;\n",
       "    }\n",
       "\n",
       "    .dataframe tbody tr th {\n",
       "        vertical-align: top;\n",
       "    }\n",
       "\n",
       "    .dataframe thead th {\n",
       "        text-align: right;\n",
       "    }\n",
       "</style>\n",
       "<table border=\"1\" class=\"dataframe\">\n",
       "  <thead>\n",
       "    <tr style=\"text-align: right;\">\n",
       "      <th></th>\n",
       "      <th>Predicted neg</th>\n",
       "      <th>Predicted pos</th>\n",
       "    </tr>\n",
       "  </thead>\n",
       "  <tbody>\n",
       "    <tr>\n",
       "      <th>Actual neg</th>\n",
       "      <td>3904</td>\n",
       "      <td>870</td>\n",
       "    </tr>\n",
       "    <tr>\n",
       "      <th>Actual pos</th>\n",
       "      <td>548</td>\n",
       "      <td>8960</td>\n",
       "    </tr>\n",
       "  </tbody>\n",
       "</table>\n",
       "</div>"
      ],
      "text/plain": [
       "            Predicted neg  Predicted pos\n",
       "Actual neg           3904            870\n",
       "Actual pos            548           8960"
      ]
     },
     "execution_count": 70,
     "metadata": {},
     "output_type": "execute_result"
    }
   ],
   "source": [
    "confusion_df"
   ]
  },
  {
   "cell_type": "markdown",
   "metadata": {},
   "source": [
    "#### AUC and Threshold Probability"
   ]
  },
  {
   "cell_type": "code",
   "execution_count": 71,
   "metadata": {},
   "outputs": [],
   "source": [
    "from sklearn.metrics import roc_curve, roc_auc_score"
   ]
  },
  {
   "cell_type": "code",
   "execution_count": 72,
   "metadata": {},
   "outputs": [],
   "source": [
    "probs = model.predict_proba(X_test_vectorized)[:, 1]"
   ]
  },
  {
   "cell_type": "code",
   "execution_count": 73,
   "metadata": {},
   "outputs": [],
   "source": [
    "fpr, tpr, threshold = roc_curve(y_test, probs)"
   ]
  },
  {
   "cell_type": "code",
   "execution_count": 74,
   "metadata": {},
   "outputs": [],
   "source": [
    "import matplotlib.pyplot as mpl"
   ]
  },
  {
   "cell_type": "code",
   "execution_count": 75,
   "metadata": {},
   "outputs": [
    {
     "name": "stdout",
     "output_type": "stream",
     "text": [
      "0.9514516604895505\n"
     ]
    }
   ],
   "source": [
    "auc = roc_auc_score(y_test, probs)\n",
    "print(auc)"
   ]
  },
  {
   "cell_type": "code",
   "execution_count": 76,
   "metadata": {},
   "outputs": [
    {
     "data": {
      "image/png": "[encoded data removed]",
      "text/plain": [
       "<Figure size 432x288 with 1 Axes>"
      ]
     },
     "metadata": {
      "needs_background": "light"
     },
     "output_type": "display_data"
    }
   ],
   "source": [
    "mpl.title('Receiver Operating Characteristic')\n",
    "mpl.plot(fpr, tpr, 'b', label = 'AUC = %0.2f' % auc)\n",
    "mpl.legend(loc = 'lower right')\n",
    "mpl.plot([0, 1], [0, 1],'r--')\n",
    "mpl.xlim([0, 1])\n",
    "mpl.ylim([0, 1])\n",
    "mpl.ylabel('True Positive Rate')\n",
    "mpl.xlabel('False Positive Rate')\n",
    "mpl.show()"
   ]
  },
  {
   "cell_type": "code",
   "execution_count": 77,
   "metadata": {},
   "outputs": [],
   "source": [
    "optimal_idx = np.argmax(tpr - fpr)\n",
    "optimal_threshold = threshold[optimal_idx]"
   ]
  },
  {
   "cell_type": "code",
   "execution_count": 78,
   "metadata": {},
   "outputs": [
    {
     "data": {
      "text/plain": [
       "0.7302185694461213"
      ]
     },
     "execution_count": 78,
     "metadata": {},
     "output_type": "execute_result"
    }
   ],
   "source": [
    "optimal_threshold"
   ]
  },
  {
   "cell_type": "markdown",
   "metadata": {},
   "source": [
    "#### Evaluation metrics using threshold probability"
   ]
  },
  {
   "cell_type": "code",
   "execution_count": 79,
   "metadata": {},
   "outputs": [],
   "source": [
    "new_predictions = np.where(probs>optimal_threshold, 1, 0)"
   ]
  },
  {
   "cell_type": "code",
   "execution_count": 80,
   "metadata": {},
   "outputs": [],
   "source": [
    "new_confusion_mat = confusion_matrix(y_test, new_predictions)"
   ]
  },
  {
   "cell_type": "code",
   "execution_count": 81,
   "metadata": {},
   "outputs": [],
   "source": [
    "new_confusion_df = pd.DataFrame(new_confusion_mat, index=['Actual neg','Actual pos'], columns=['Predicted neg','Predicted pos'])"
   ]
  },
  {
   "cell_type": "code",
   "execution_count": 82,
   "metadata": {},
   "outputs": [
    {
     "data": {
      "text/html": [
       "<div>\n",
       "<style scoped>\n",
       "    .dataframe tbody tr th:only-of-type {\n",
       "        vertical-align: middle;\n",
       "    }\n",
       "\n",
       "    .dataframe tbody tr th {\n",
       "        vertical-align: top;\n",
       "    }\n",
       "\n",
       "    .dataframe thead th {\n",
       "        text-align: right;\n",
       "    }\n",
       "</style>\n",
       "<table border=\"1\" class=\"dataframe\">\n",
       "  <thead>\n",
       "    <tr style=\"text-align: right;\">\n",
       "      <th></th>\n",
       "      <th>Predicted neg</th>\n",
       "      <th>Predicted pos</th>\n",
       "    </tr>\n",
       "  </thead>\n",
       "  <tbody>\n",
       "    <tr>\n",
       "      <th>Actual neg</th>\n",
       "      <td>4236</td>\n",
       "      <td>538</td>\n",
       "    </tr>\n",
       "    <tr>\n",
       "      <th>Actual pos</th>\n",
       "      <td>984</td>\n",
       "      <td>8524</td>\n",
       "    </tr>\n",
       "  </tbody>\n",
       "</table>\n",
       "</div>"
      ],
      "text/plain": [
       "            Predicted neg  Predicted pos\n",
       "Actual neg           4236            538\n",
       "Actual pos            984           8524"
      ]
     },
     "execution_count": 82,
     "metadata": {},
     "output_type": "execute_result"
    }
   ],
   "source": [
    "new_confusion_df"
   ]
  },
  {
   "cell_type": "code",
   "execution_count": 83,
   "metadata": {},
   "outputs": [
    {
     "name": "stdout",
     "output_type": "stream",
     "text": [
      "              precision    recall  f1-score   support\n",
      "\n",
      "           0       0.81      0.89      0.85      4774\n",
      "           1       0.94      0.90      0.92      9508\n",
      "\n",
      "   micro avg       0.89      0.89      0.89     14282\n",
      "   macro avg       0.88      0.89      0.88     14282\n",
      "weighted avg       0.90      0.89      0.89     14282\n",
      "\n"
     ]
    }
   ],
   "source": [
    "print(classification_report(y_test,new_predictions))"
   ]
  },
  {
   "cell_type": "code",
   "execution_count": 84,
   "metadata": {},
   "outputs": [
    {
     "data": {
      "text/plain": [
       "0.893432292396023"
      ]
     },
     "execution_count": 84,
     "metadata": {},
     "output_type": "execute_result"
    }
   ],
   "source": [
    "accuracy_score(y_test, new_predictions)"
   ]
  },
  {
   "cell_type": "code",
   "execution_count": 85,
   "metadata": {},
   "outputs": [
    {
     "name": "stdout",
     "output_type": "stream",
     "text": [
      "Smallest Coefs: \n",
      "['worst' 'disappoint' 'terrible' 'awful' 'horrible' 'return'\n",
      " 'disappointment' 'bland' 'stale' 'cancel']\n",
      "\n",
      "Largest Coefs: \n",
      "['delicious' 'awesome' 'excellent' 'perfect' 'amaze' 'wonderful' 'yummy'\n",
      " 'best' 'wont disappoint' 'smooth']\n",
      "\n"
     ]
    }
   ],
   "source": [
    "feature_names = np.array(vect.get_feature_names())\n",
    "sorted_coef_index = model.coef_[0].argsort()\n",
    "print('Smallest Coefs: \\n{}\\n'.format(feature_names[sorted_coef_index[:10]]))\n",
    "print('Largest Coefs: \\n{}\\n'.format(feature_names[sorted_coef_index[:-11:-1]]))"
   ]
  },
  {
   "cell_type": "markdown",
   "metadata": {},
   "source": [
    "#### The accuracy and other scores seems to have decreased slightly after using the threshold values."
   ]
  },
  {
   "cell_type": "markdown",
   "metadata": {},
   "source": [
    "### Fitting Logistic Regression with standardization"
   ]
  },
  {
   "cell_type": "code",
   "execution_count": 86,
   "metadata": {},
   "outputs": [
    {
     "name": "stderr",
     "output_type": "stream",
     "text": [
      "C:\\Users\\Prabha\\Anaconda3\\lib\\site-packages\\sklearn\\linear_model\\logistic.py:433: FutureWarning: Default solver will be changed to 'lbfgs' in 0.22. Specify a solver to silence this warning.\n",
      "  FutureWarning)\n"
     ]
    },
    {
     "data": {
      "text/plain": [
       "LogisticRegression(C=1.0, class_weight=None, dual=False, fit_intercept=True,\n",
       "          intercept_scaling=1, max_iter=100, multi_class='warn',\n",
       "          n_jobs=None, penalty='l2', random_state=None, solver='warn',\n",
       "          tol=0.0001, verbose=0, warm_start=False)"
      ]
     },
     "execution_count": 86,
     "metadata": {},
     "output_type": "execute_result"
    }
   ],
   "source": [
    "from sklearn.linear_model import LogisticRegression\n",
    "models = LogisticRegression()\n",
    "models.fit(X_train_vectorized_s, y_train)"
   ]
  },
  {
   "cell_type": "markdown",
   "metadata": {},
   "source": [
    "#### Accuracy Score, Precision Score, Recall Score, f1 Score"
   ]
  },
  {
   "cell_type": "code",
   "execution_count": 87,
   "metadata": {},
   "outputs": [],
   "source": [
    "from sklearn.metrics import accuracy_score, precision_score, recall_score, f1_score"
   ]
  },
  {
   "cell_type": "code",
   "execution_count": 88,
   "metadata": {},
   "outputs": [],
   "source": [
    "predictions = models.predict(X_test_vectorized_s)"
   ]
  },
  {
   "cell_type": "code",
   "execution_count": 89,
   "metadata": {},
   "outputs": [
    {
     "name": "stdout",
     "output_type": "stream",
     "text": [
      "              precision    recall  f1-score   support\n",
      "\n",
      "           0       0.91      0.61      0.73      4774\n",
      "           1       0.83      0.97      0.90      9508\n",
      "\n",
      "   micro avg       0.85      0.85      0.85     14282\n",
      "   macro avg       0.87      0.79      0.81     14282\n",
      "weighted avg       0.86      0.85      0.84     14282\n",
      "\n"
     ]
    }
   ],
   "source": [
    "from sklearn.metrics import classification_report\n",
    "\n",
    "print(classification_report(y_test,predictions))"
   ]
  },
  {
   "cell_type": "code",
   "execution_count": 90,
   "metadata": {},
   "outputs": [
    {
     "data": {
      "text/plain": [
       "0.8499509872566867"
      ]
     },
     "execution_count": 90,
     "metadata": {},
     "output_type": "execute_result"
    }
   ],
   "source": [
    "accuracy_score(y_test, predictions)"
   ]
  },
  {
   "cell_type": "markdown",
   "metadata": {},
   "source": [
    "#### AUC"
   ]
  },
  {
   "cell_type": "code",
   "execution_count": 91,
   "metadata": {},
   "outputs": [
    {
     "name": "stdout",
     "output_type": "stream",
     "text": [
      "AUC:  0.9160512903031937\n"
     ]
    }
   ],
   "source": [
    "from sklearn.metrics import roc_auc_score\n",
    "probs = models.predict_proba(X_test_vectorized_s)[:, 1]\n",
    "print('AUC: ', roc_auc_score(y_test, probs))"
   ]
  },
  {
   "cell_type": "code",
   "execution_count": 92,
   "metadata": {},
   "outputs": [
    {
     "name": "stdout",
     "output_type": "stream",
     "text": [
      "Smallest Coefs: \n",
      "['worst' 'disappoint' 'terrible' 'awful' 'horrible' 'return'\n",
      " 'disappointment' 'bland' 'stale' 'cancel']\n",
      "\n",
      "Largest Coefs: \n",
      "['delicious' 'awesome' 'excellent' 'perfect' 'amaze' 'wonderful' 'yummy'\n",
      " 'best' 'wont disappoint' 'smooth']\n",
      "\n"
     ]
    }
   ],
   "source": [
    "feature_names = np.array(vect.get_feature_names())\n",
    "sorted_coef_index = model.coef_[0].argsort()\n",
    "print('Smallest Coefs: \\n{}\\n'.format(feature_names[sorted_coef_index[:10]]))\n",
    "print('Largest Coefs: \\n{}\\n'.format(feature_names[sorted_coef_index[:-11:-1]]))"
   ]
  },
  {
   "cell_type": "markdown",
   "metadata": {},
   "source": [
    "#### The classification models below are based on non standardized data as the accuracy in logistic regression has yeided better accuracy for non standardized data."
   ]
  },
  {
   "cell_type": "markdown",
   "metadata": {},
   "source": [
    "### Fitting Logistic Regression after using Tfid Transformer"
   ]
  },
  {
   "cell_type": "code",
   "execution_count": 93,
   "metadata": {},
   "outputs": [
    {
     "data": {
      "text/plain": [
       "(33322, 618358)"
      ]
     },
     "execution_count": 93,
     "metadata": {},
     "output_type": "execute_result"
    }
   ],
   "source": [
    "from sklearn.feature_extraction.text import TfidfTransformer\n",
    "tfidf_transformer = TfidfTransformer()\n",
    "X_train_tfidf = tfidf_transformer.fit_transform(X_train_vectorized)\n",
    "X_train_tfidf.shape"
   ]
  },
  {
   "cell_type": "code",
   "execution_count": 94,
   "metadata": {},
   "outputs": [
    {
     "name": "stderr",
     "output_type": "stream",
     "text": [
      "C:\\Users\\Prabha\\Anaconda3\\lib\\site-packages\\sklearn\\linear_model\\logistic.py:433: FutureWarning: Default solver will be changed to 'lbfgs' in 0.22. Specify a solver to silence this warning.\n",
      "  FutureWarning)\n"
     ]
    },
    {
     "data": {
      "text/plain": [
       "LogisticRegression(C=1.0, class_weight=None, dual=False, fit_intercept=True,\n",
       "          intercept_scaling=1, max_iter=100, multi_class='warn',\n",
       "          n_jobs=None, penalty='l2', random_state=None, solver='warn',\n",
       "          tol=0.0001, verbose=0, warm_start=False)"
      ]
     },
     "execution_count": 94,
     "metadata": {},
     "output_type": "execute_result"
    }
   ],
   "source": [
    "from sklearn.linear_model import LogisticRegression\n",
    "model1 = LogisticRegression()\n",
    "model1.fit(X_train_tfidf, y_train)"
   ]
  },
  {
   "cell_type": "markdown",
   "metadata": {},
   "source": [
    "#### Accuracy Score, Precision Score, Recall Score, f1 Score"
   ]
  },
  {
   "cell_type": "code",
   "execution_count": 95,
   "metadata": {},
   "outputs": [],
   "source": [
    "predictions = model1.predict(X_test_vectorized)"
   ]
  },
  {
   "cell_type": "code",
   "execution_count": 96,
   "metadata": {},
   "outputs": [
    {
     "name": "stdout",
     "output_type": "stream",
     "text": [
      "              precision    recall  f1-score   support\n",
      "\n",
      "           0       0.83      0.76      0.79      4774\n",
      "           1       0.88      0.92      0.90      9508\n",
      "\n",
      "   micro avg       0.87      0.87      0.87     14282\n",
      "   macro avg       0.86      0.84      0.85     14282\n",
      "weighted avg       0.87      0.87      0.87     14282\n",
      "\n"
     ]
    }
   ],
   "source": [
    "print(classification_report(y_test,predictions))"
   ]
  },
  {
   "cell_type": "code",
   "execution_count": 97,
   "metadata": {},
   "outputs": [
    {
     "data": {
      "text/plain": [
       "0.8682957568967932"
      ]
     },
     "execution_count": 97,
     "metadata": {},
     "output_type": "execute_result"
    }
   ],
   "source": [
    "accuracy_score(y_test, predictions)"
   ]
  },
  {
   "cell_type": "markdown",
   "metadata": {},
   "source": [
    "#### AUC"
   ]
  },
  {
   "cell_type": "code",
   "execution_count": 98,
   "metadata": {},
   "outputs": [
    {
     "name": "stdout",
     "output_type": "stream",
     "text": [
      "AUC:  0.9223163163461316\n"
     ]
    }
   ],
   "source": [
    "from sklearn.metrics import roc_auc_score\n",
    "probs1 = model1.predict_proba(X_test_vectorized)[:, 1]\n",
    "print('AUC: ', roc_auc_score(y_test, probs1))"
   ]
  },
  {
   "cell_type": "code",
   "execution_count": 99,
   "metadata": {},
   "outputs": [
    {
     "name": "stdout",
     "output_type": "stream",
     "text": [
      "Smallest Coefs: \n",
      "['disappoint' 'return' 'bad' 'worst' 'throw' 'horrible' 'terrible' 'awful'\n",
      " 'money' 'think']\n",
      "\n",
      "Largest Coefs: \n",
      "['great' 'love' 'best' 'delicious' 'perfect' 'nice' 'good' 'excellent'\n",
      " 'favorite' 'wonderful']\n",
      "\n"
     ]
    }
   ],
   "source": [
    "feature_names = np.array(vect.get_feature_names())\n",
    "sorted_coef_index = model1.coef_[0].argsort()\n",
    "print('Smallest Coefs: \\n{}\\n'.format(feature_names[sorted_coef_index[:10]]))\n",
    "print('Largest Coefs: \\n{}\\n'.format(feature_names[sorted_coef_index[:-11:-1]]))"
   ]
  },
  {
   "cell_type": "markdown",
   "metadata": {},
   "source": [
    "### Fitting Multinomial Naive Bayes "
   ]
  },
  {
   "cell_type": "code",
   "execution_count": 100,
   "metadata": {},
   "outputs": [],
   "source": [
    "from sklearn.naive_bayes import MultinomialNB"
   ]
  },
  {
   "cell_type": "code",
   "execution_count": 101,
   "metadata": {},
   "outputs": [],
   "source": [
    "model2 = MultinomialNB()"
   ]
  },
  {
   "cell_type": "code",
   "execution_count": 102,
   "metadata": {},
   "outputs": [
    {
     "data": {
      "text/plain": [
       "MultinomialNB(alpha=1.0, class_prior=None, fit_prior=True)"
      ]
     },
     "execution_count": 102,
     "metadata": {},
     "output_type": "execute_result"
    }
   ],
   "source": [
    "model2.fit(X_train_vectorized, y_train)"
   ]
  },
  {
   "cell_type": "markdown",
   "metadata": {},
   "source": [
    "#### Accuracy Score, Precision Score, Recall Score, f1 Score"
   ]
  },
  {
   "cell_type": "code",
   "execution_count": 103,
   "metadata": {},
   "outputs": [],
   "source": [
    "predictions = model2.predict(X_test_vectorized)"
   ]
  },
  {
   "cell_type": "code",
   "execution_count": 104,
   "metadata": {},
   "outputs": [
    {
     "name": "stdout",
     "output_type": "stream",
     "text": [
      "              precision    recall  f1-score   support\n",
      "\n",
      "           0       0.94      0.62      0.75      4774\n",
      "           1       0.84      0.98      0.90      9508\n",
      "\n",
      "   micro avg       0.86      0.86      0.86     14282\n",
      "   macro avg       0.89      0.80      0.82     14282\n",
      "weighted avg       0.87      0.86      0.85     14282\n",
      "\n"
     ]
    }
   ],
   "source": [
    "print(classification_report(y_test,predictions))"
   ]
  },
  {
   "cell_type": "code",
   "execution_count": 105,
   "metadata": {},
   "outputs": [
    {
     "data": {
      "text/plain": [
       "0.8587032628483405"
      ]
     },
     "execution_count": 105,
     "metadata": {},
     "output_type": "execute_result"
    }
   ],
   "source": [
    "accuracy_score(y_test, predictions)"
   ]
  },
  {
   "cell_type": "code",
   "execution_count": 106,
   "metadata": {},
   "outputs": [
    {
     "name": "stdout",
     "output_type": "stream",
     "text": [
      "AUC:  0.9177294462767136\n"
     ]
    }
   ],
   "source": [
    "probs2 = model2.predict_proba(X_test_vectorized)[:, 1]\n",
    "print('AUC: ', roc_auc_score(y_test, probs2))"
   ]
  },
  {
   "cell_type": "code",
   "execution_count": 107,
   "metadata": {},
   "outputs": [
    {
     "name": "stdout",
     "output_type": "stream",
     "text": [
      "Smallest Coefs: \n",
      "['dog family' 'review equate' 'exist dissapointing' 'exist drink'\n",
      " 'exist excite' 'exist fact' 'review effectiveness' 'exist gas'\n",
      " 'review edible' 'review eat']\n",
      "\n",
      "Largest Coefs: \n",
      "['like' 'love' 'good' 'great' 'make' 'use' 'try' 'buy' 'tea' 'eat']\n",
      "\n"
     ]
    }
   ],
   "source": [
    "feature_names = np.array(vect.get_feature_names())\n",
    "sorted_coef_index = model2.coef_[0].argsort()\n",
    "print('Smallest Coefs: \\n{}\\n'.format(feature_names[sorted_coef_index[:10]]))\n",
    "print('Largest Coefs: \\n{}\\n'.format(feature_names[sorted_coef_index[:-11:-1]]))"
   ]
  },
  {
   "cell_type": "markdown",
   "metadata": {},
   "source": [
    "### Random Forest Classifier"
   ]
  },
  {
   "cell_type": "code",
   "execution_count": 108,
   "metadata": {},
   "outputs": [],
   "source": [
    "from sklearn.ensemble import RandomForestClassifier"
   ]
  },
  {
   "cell_type": "code",
   "execution_count": 109,
   "metadata": {},
   "outputs": [],
   "source": [
    "rf_model = RandomForestClassifier(n_estimators=40, n_jobs=-1)"
   ]
  },
  {
   "cell_type": "code",
   "execution_count": 110,
   "metadata": {},
   "outputs": [
    {
     "data": {
      "text/plain": [
       "RandomForestClassifier(bootstrap=True, class_weight=None, criterion='gini',\n",
       "            max_depth=None, max_features='auto', max_leaf_nodes=None,\n",
       "            min_impurity_decrease=0.0, min_impurity_split=None,\n",
       "            min_samples_leaf=1, min_samples_split=2,\n",
       "            min_weight_fraction_leaf=0.0, n_estimators=40, n_jobs=-1,\n",
       "            oob_score=False, random_state=None, verbose=0,\n",
       "            warm_start=False)"
      ]
     },
     "execution_count": 110,
     "metadata": {},
     "output_type": "execute_result"
    }
   ],
   "source": [
    "rf_model.fit(X_train_vectorized, y_train)"
   ]
  },
  {
   "cell_type": "code",
   "execution_count": 111,
   "metadata": {},
   "outputs": [],
   "source": [
    "predictions = rf_model.predict(X_test_vectorized)"
   ]
  },
  {
   "cell_type": "code",
   "execution_count": 112,
   "metadata": {},
   "outputs": [
    {
     "name": "stdout",
     "output_type": "stream",
     "text": [
      "              precision    recall  f1-score   support\n",
      "\n",
      "           0       0.94      0.57      0.71      4774\n",
      "           1       0.82      0.98      0.89      9508\n",
      "\n",
      "   micro avg       0.84      0.84      0.84     14282\n",
      "   macro avg       0.88      0.78      0.80     14282\n",
      "weighted avg       0.86      0.84      0.83     14282\n",
      "\n"
     ]
    }
   ],
   "source": [
    "print(classification_report(y_test,predictions))"
   ]
  },
  {
   "cell_type": "code",
   "execution_count": 113,
   "metadata": {},
   "outputs": [
    {
     "data": {
      "text/plain": [
       "0.843649348830696"
      ]
     },
     "execution_count": 113,
     "metadata": {},
     "output_type": "execute_result"
    }
   ],
   "source": [
    "accuracy_score(y_test, predictions)"
   ]
  },
  {
   "cell_type": "code",
   "execution_count": 115,
   "metadata": {},
   "outputs": [
    {
     "name": "stdout",
     "output_type": "stream",
     "text": [
      "AUC:  0.9286693440436637\n"
     ]
    }
   ],
   "source": [
    "probsrf = rf_model.predict_proba(X_test_vectorized)[:, 1]\n",
    "print('AUC: ', roc_auc_score(y_test, probsrf))"
   ]
  },
  {
   "cell_type": "markdown",
   "metadata": {},
   "source": [
    "#### The Classifier was fitted with 5 estimators initially and increased to 40 in steps of 5. However there was no substantial increase in accuracy score. Score increased only by 1% even after increasing the number of estimators from 5 to 40. "
   ]
  },
  {
   "attachments": {},
   "cell_type": "markdown",
   "metadata": {},
   "source": [
    "##  Conclusion\n",
    "### The accuracy of the Logistic Regression model was highest at 90% with reasonably good precision, recall, f1 and AUC scores – all above 90%.\n",
    "\n",
    "### The recall of Logistic regression with standardized data, Multinomial Bayes and Random Forest was very high at around 97-98 %, however the overall accuracy was around 85%. This is due to decreased efficiency in classifying the negative sentiment.\n",
    "\n",
    "## The logistic regression with non standardized data seems to be balanced in terms of all evaluation parameters. As knowing the negative sentiment is also as important as knowing the positive sentiment we would use this model for prediction of sentiment."
   ]
  }
 ],
 "metadata": {
  "kernelspec": {
   "display_name": "Python 3",
   "language": "python",
   "name": "python3"
  },
  "language_info": {
   "codemirror_mode": {
    "name": "ipython",
    "version": 3
   },
   "file_extension": ".py",
   "mimetype": "text/x-python",
   "name": "python",
   "nbconvert_exporter": "python",
   "pygments_lexer": "ipython3",
   "version": "3.7.1"
  }
 },
 "nbformat": 4,
 "nbformat_minor": 2
}
